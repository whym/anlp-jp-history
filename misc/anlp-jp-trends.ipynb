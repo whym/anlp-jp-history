{
 "cells": [
  {
   "cell_type": "markdown",
   "metadata": {
    "collapsed": true
   },
   "source": [
    "1995年から2015年までの言語処理学会大会論文リスト anlp-jp-history.json を集計して\n",
    "\n",
    "* 年ごとの投稿数\n",
    "* 年ごとの共著数\n",
    "* 年ごとの継続投稿者数（まだない）\n",
    "\n",
    "のグラフを描くスクリプトです。"
   ]
  },
  {
   "cell_type": "code",
   "execution_count": 1,
   "metadata": {
    "collapsed": false,
    "scrolled": false
   },
   "outputs": [
    {
     "data": {
      "text/html": [
       "<div>\n",
       "<table border=\"1\" class=\"dataframe\">\n",
       "  <thead>\n",
       "    <tr style=\"text-align: right;\">\n",
       "      <th></th>\n",
       "      <th>author_list</th>\n",
       "      <th>authors</th>\n",
       "      <th>authors_num</th>\n",
       "      <th>pid</th>\n",
       "      <th>title</th>\n",
       "      <th>url</th>\n",
       "      <th>year</th>\n",
       "    </tr>\n",
       "  </thead>\n",
       "  <tbody>\n",
       "    <tr>\n",
       "      <th>0</th>\n",
       "      <td>○荒木哲郎 (福井大)，池原悟 (NTT)，横川秀人 (福井大)</td>\n",
       "      <td>[荒木哲郎, 池原悟, 横川秀人]</td>\n",
       "      <td>3</td>\n",
       "      <td>1995/A1-1</td>\n",
       "      <td>アクセント，ポーズ位置情報を用いた日本語音節文候補の絞り込み</td>\n",
       "      <td>http://www.anlp.jp/proceedings/annual_meeting/...</td>\n",
       "      <td>1995</td>\n",
       "    </tr>\n",
       "    <tr>\n",
       "      <th>1</th>\n",
       "      <td>○荒木哲郎 (福井大)，池原悟 (NTT)，四方啓智 (福井大)</td>\n",
       "      <td>[荒木哲郎, 池原悟, 四方啓智]</td>\n",
       "      <td>3</td>\n",
       "      <td>1995/A1-2</td>\n",
       "      <td>日本語音声会話文ラティスからのキーワード候補の抽出法</td>\n",
       "      <td>http://www.anlp.jp/proceedings/annual_meeting/...</td>\n",
       "      <td>1995</td>\n",
       "    </tr>\n",
       "    <tr>\n",
       "      <th>2</th>\n",
       "      <td>○白井諭，横尾昭男 (NTT)，木村淳子，小見佳恵 (NTTアドバンステクノロジ)</td>\n",
       "      <td>[白井諭, 横尾昭男, 木村淳子, 小見佳恵]</td>\n",
       "      <td>4</td>\n",
       "      <td>1995/A1-3</td>\n",
       "      <td>従属節の依存関係を考慮した日本語係り受け解析について</td>\n",
       "      <td>http://www.anlp.jp/proceedings/annual_meeting/...</td>\n",
       "      <td>1995</td>\n",
       "    </tr>\n",
       "  </tbody>\n",
       "</table>\n",
       "</div>"
      ],
      "text/plain": [
       "                                 author_list                  authors  \\\n",
       "0           ○荒木哲郎 (福井大)，池原悟 (NTT)，横川秀人 (福井大)        [荒木哲郎, 池原悟, 横川秀人]   \n",
       "1           ○荒木哲郎 (福井大)，池原悟 (NTT)，四方啓智 (福井大)        [荒木哲郎, 池原悟, 四方啓智]   \n",
       "2  ○白井諭，横尾昭男 (NTT)，木村淳子，小見佳恵 (NTTアドバンステクノロジ)  [白井諭, 横尾昭男, 木村淳子, 小見佳恵]   \n",
       "\n",
       "   authors_num        pid                           title  \\\n",
       "0            3  1995/A1-1  アクセント，ポーズ位置情報を用いた日本語音節文候補の絞り込み   \n",
       "1            3  1995/A1-2      日本語音声会話文ラティスからのキーワード候補の抽出法   \n",
       "2            4  1995/A1-3      従属節の依存関係を考慮した日本語係り受け解析について   \n",
       "\n",
       "                                                 url  year  \n",
       "0  http://www.anlp.jp/proceedings/annual_meeting/...  1995  \n",
       "1  http://www.anlp.jp/proceedings/annual_meeting/...  1995  \n",
       "2  http://www.anlp.jp/proceedings/annual_meeting/...  1995  "
      ]
     },
     "execution_count": 1,
     "metadata": {},
     "output_type": "execute_result"
    }
   ],
   "source": [
    "import six.moves.urllib.request as urlreq\n",
    "from six.moves import xrange\n",
    "import pandas as pd\n",
    "import numpy as np\n",
    "import matplotlib.pyplot as plt\n",
    "import json\n",
    "import codecs\n",
    "import re\n",
    "\n",
    "f = codecs.getreader('utf-8')(urlreq.urlopen('http://files.figshare.com/2212988/anlp_jp_history.json'))\n",
    "# f = codecs.getreader('utf-8')(open('../resource/anlp_jp_history.json'))\n",
    "table = json.load(f)\n",
    "for row in table:\n",
    "    a = row['author_list'].replace(u'○', '')\n",
    "    a = re.sub(r' *\\(.*?\\)', '', a)\n",
    "    row['authors'] = re.split(u'[，,]', a)\n",
    "    row['authors_num'] = len(row['authors'])\n",
    "df = pd.DataFrame(table)\n",
    "df[0:3]"
   ]
  },
  {
   "cell_type": "code",
   "execution_count": 7,
   "metadata": {
    "collapsed": false
   },
   "outputs": [
    {
     "data": {
      "text/plain": [
       "<matplotlib.axes._subplots.AxesSubplot at 0x7f9a8396bb38>"
      ]
     },
     "execution_count": 7,
     "metadata": {},
     "output_type": "execute_result"
    },
    {
     "data": {
      "image/png": "[encoded data removed]",
      "text/plain": [
       "<matplotlib.figure.Figure at 0x7f9a838193c8>"
      ]
     },
     "metadata": {},
     "output_type": "display_data"
    }
   ],
   "source": [
    "import matplotlib.pyplot as plt\n",
    "#%matplotlib qt\n",
    "%matplotlib inline\n",
    "\n",
    "df['year'].hist()"
   ]
  },
  {
   "cell_type": "code",
   "execution_count": 8,
   "metadata": {
    "collapsed": false
   },
   "outputs": [
    {
     "data": {
      "text/plain": [
       "<matplotlib.legend.Legend at 0x7f9a836cc240>"
      ]
     },
     "execution_count": 8,
     "metadata": {},
     "output_type": "execute_result"
    },
    {
     "data": {
      "image/png": "[encoded data removed]",
      "text/plain": [
       "<matplotlib.figure.Figure at 0x7f9a836cc128>"
      ]
     },
     "metadata": {},
     "output_type": "display_data"
    }
   ],
   "source": [
    "df[df['year'].between(1995, 2000)]['authors_num'].hist(bins=xrange(1,20), alpha=0.5, label='1995-99')\n",
    "df[df['year'].between(2000, 2005)]['authors_num'].hist(bins=xrange(1,20), alpha=0.5, label='2000-04')\n",
    "plt.legend(loc='upper right')"
   ]
  },
  {
   "cell_type": "code",
   "execution_count": 9,
   "metadata": {
    "collapsed": false
   },
   "outputs": [
    {
     "data": {
      "text/plain": [
       "<matplotlib.legend.Legend at 0x7f9a83591e80>"
      ]
     },
     "execution_count": 9,
     "metadata": {},
     "output_type": "execute_result"
    },
    {
     "data": {
      "image/png": "[encoded data removed]",
      "text/plain": [
       "<matplotlib.figure.Figure at 0x7f9a835b5780>"
      ]
     },
     "metadata": {},
     "output_type": "display_data"
    }
   ],
   "source": [
    "df[df['year'].between(2005, 2010)]['authors_num'].hist(bins=xrange(1,20), alpha=0.5, label='2005-09')\n",
    "df[df['year'].between(2010, 2015)]['authors_num'].hist(bins=xrange(1,20), alpha=0.5, label='2010-14')\n",
    "plt.legend(loc='upper right')"
   ]
  }
 ],
 "metadata": {
  "kernelspec": {
   "display_name": "Python 3",
   "language": "python",
   "name": "python3"
  },
  "language_info": {
   "codemirror_mode": {
    "name": "ipython",
    "version": 3
   },
   "file_extension": ".py",
   "mimetype": "text/x-python",
   "name": "python",
   "nbconvert_exporter": "python",
   "pygments_lexer": "ipython3",
   "version": "3.4.3"
  }
 },
 "nbformat": 4,
 "nbformat_minor": 0
}
